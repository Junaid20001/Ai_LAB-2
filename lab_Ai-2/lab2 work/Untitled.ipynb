{
 "cells": [
  {
   "cell_type": "raw",
   "id": "c0538c3b",
   "metadata": {},
   "source": [
    "Example 1) Print square root of negative or positive number using if and operators.\n"
   ]
  },
  {
   "cell_type": "code",
   "execution_count": 20,
   "id": "8769ce74",
   "metadata": {},
   "outputs": [
    {
     "name": "stdout",
     "output_type": "stream",
     "text": [
      "Enter a postive number: 25\n",
      "The square root of 25 is 5.0\n",
      "Enter a negative number: -16\n",
      "The square root of negative nyber -16 is 4j\n",
      "Thanks for the input!\n"
     ]
    }
   ],
   "source": [
    "import math\n",
    "import cmath\n",
    "\n",
    "a = int(input(\"Enter a postive number: \"))\n",
    "\n",
    "if (a >= 0):\n",
    "    square_root = math.sqrt(a)\n",
    "    print(\"The square root of\", a, \"is\", square_root)\n",
    "\n",
    "b = int(input(\"Enter a negative number: \"))    \n",
    "if (b <= 0):\n",
    "        minus_square_root = cmath.sqrt(b)\n",
    "        print(\"The square root of negative nyber\", b, \"is\", minus_square_root)\n",
    "print(\"Thanks for the input!\") \n"
   ]
  },
  {
   "cell_type": "raw",
   "id": "45cbf557",
   "metadata": {},
   "source": [
    "Example 2) Write conditional statements to print value of 0 to 1 and 1 to 0 and numbers in between."
   ]
  },
  {
   "cell_type": "code",
   "execution_count": 1,
   "id": "be208b52",
   "metadata": {},
   "outputs": [
    {
     "name": "stdout",
     "output_type": "stream",
     "text": [
      "0.0\n",
      "0.1\n",
      "0.9\n",
      "0.2\n",
      "0.8\n",
      "0.3\n",
      "0.7\n",
      "0.4\n",
      "0.6\n",
      "0.5\n",
      "0.5\n",
      "0.6\n",
      "0.4\n",
      "0.7\n",
      "0.30000000000000004\n",
      "0.8\n",
      "0.19999999999999996\n",
      "0.9\n",
      "0.09999999999999998\n",
      "0.0\n"
     ]
    }
   ],
   "source": [
    "for i in range(11):\n",
    "    value = i / 10.0\n",
    "    if i == 0:\n",
    "        print(value)\n",
    "    elif i == 10:\n",
    "        print(1 - value)\n",
    "    else:\n",
    "        print(value)\n",
    "        print(1 - value)\n"
   ]
  },
  {
   "cell_type": "code",
   "execution_count": null,
   "id": "d4be4f38",
   "metadata": {},
   "outputs": [],
   "source": []
  }
 ],
 "metadata": {
  "kernelspec": {
   "display_name": "Python 3 (ipykernel)",
   "language": "python",
   "name": "python3"
  },
  "language_info": {
   "codemirror_mode": {
    "name": "ipython",
    "version": 3
   },
   "file_extension": ".py",
   "mimetype": "text/x-python",
   "name": "python",
   "nbconvert_exporter": "python",
   "pygments_lexer": "ipython3",
   "version": "3.9.12"
  }
 },
 "nbformat": 4,
 "nbformat_minor": 5
}
